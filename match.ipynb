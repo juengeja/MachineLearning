{
 "cells": [
  {
   "cell_type": "code",
   "execution_count": 1,
   "metadata": {},
   "outputs": [],
   "source": [
    "import sqlite3\n",
    "import pandas as pd\n",
    "import numpy as np\n",
    "\n",
    "cnx = sqlite3.connect('database.sqlite')\n",
    "dfm = pd.read_sql_query(\"SELECT * FROM Match\", cnx)"
   ]
  },
  {
   "cell_type": "code",
   "execution_count": 2,
   "metadata": {},
   "outputs": [
    {
     "name": "stdout",
     "output_type": "stream",
     "text": [
      "Heimteam Tore Verteilung:\n",
      "1     0.323338\n",
      "2     0.244005\n",
      "0     0.226953\n",
      "3     0.126564\n",
      "4     0.053312\n",
      "5     0.017591\n",
      "6     0.006197\n",
      "7     0.001463\n",
      "8     0.000346\n",
      "9     0.000154\n",
      "10    0.000077\n",
      "Name: home_team_goal, dtype: float64\n"
     ]
    }
   ],
   "source": [
    "ht_goal = dfm[\"home_team_goal\"].value_counts(normalize=True)\n",
    "print(\"Heimteam Tore Verteilung:\")\n",
    "print(ht_goal)"
   ]
  },
  {
   "attachments": {},
   "cell_type": "markdown",
   "metadata": {},
   "source": [
    "# Datenanalyse"
   ]
  },
  {
   "cell_type": "code",
   "execution_count": 1,
   "metadata": {},
   "outputs": [
    {
     "name": "stdout",
     "output_type": "stream",
     "text": [
      "id: 0 NULL entries\n",
      "country_id: 0 NULL entries\n",
      "league_id: 0 NULL entries\n",
      "season: 0 NULL entries\n",
      "stage: 0 NULL entries\n",
      "date: 0 NULL entries\n",
      "match_api_id: 0 NULL entries\n",
      "home_team_api_id: 0 NULL entries\n",
      "away_team_api_id: 0 NULL entries\n",
      "home_team_goal: 0 NULL entries\n",
      "away_team_goal: 0 NULL entries\n",
      "home_player_X1: 1821 NULL entries\n",
      "home_player_X2: 1821 NULL entries\n",
      "home_player_X3: 1832 NULL entries\n",
      "home_player_X4: 1832 NULL entries\n",
      "home_player_X5: 1832 NULL entries\n",
      "home_player_X6: 1832 NULL entries\n",
      "home_player_X7: 1832 NULL entries\n",
      "home_player_X8: 1832 NULL entries\n",
      "home_player_X9: 1832 NULL entries\n",
      "home_player_X10: 1832 NULL entries\n",
      "home_player_X11: 1832 NULL entries\n",
      "away_player_X1: 1832 NULL entries\n",
      "away_player_X2: 1832 NULL entries\n",
      "away_player_X3: 1832 NULL entries\n",
      "away_player_X4: 1832 NULL entries\n",
      "away_player_X5: 1832 NULL entries\n",
      "away_player_X6: 1832 NULL entries\n",
      "away_player_X7: 1832 NULL entries\n",
      "away_player_X8: 1832 NULL entries\n",
      "away_player_X9: 1833 NULL entries\n",
      "away_player_X10: 1833 NULL entries\n",
      "away_player_X11: 1839 NULL entries\n",
      "home_player_Y1: 1821 NULL entries\n",
      "home_player_Y2: 1821 NULL entries\n",
      "home_player_Y3: 1832 NULL entries\n",
      "home_player_Y4: 1832 NULL entries\n",
      "home_player_Y5: 1832 NULL entries\n",
      "home_player_Y6: 1832 NULL entries\n",
      "home_player_Y7: 1832 NULL entries\n",
      "home_player_Y8: 1832 NULL entries\n",
      "home_player_Y9: 1832 NULL entries\n",
      "home_player_Y10: 1832 NULL entries\n",
      "home_player_Y11: 1832 NULL entries\n",
      "away_player_Y1: 1832 NULL entries\n",
      "away_player_Y2: 1832 NULL entries\n",
      "away_player_Y3: 1832 NULL entries\n",
      "away_player_Y4: 1832 NULL entries\n",
      "away_player_Y5: 1832 NULL entries\n",
      "away_player_Y6: 1832 NULL entries\n",
      "away_player_Y7: 1832 NULL entries\n",
      "away_player_Y8: 1832 NULL entries\n",
      "away_player_Y9: 1833 NULL entries\n",
      "away_player_Y10: 1833 NULL entries\n",
      "away_player_Y11: 1839 NULL entries\n",
      "home_player_1: 1224 NULL entries\n",
      "home_player_2: 1315 NULL entries\n",
      "home_player_3: 1281 NULL entries\n",
      "home_player_4: 1323 NULL entries\n",
      "home_player_5: 1316 NULL entries\n",
      "home_player_6: 1325 NULL entries\n",
      "home_player_7: 1227 NULL entries\n",
      "home_player_8: 1309 NULL entries\n",
      "home_player_9: 1273 NULL entries\n",
      "home_player_10: 1436 NULL entries\n",
      "home_player_11: 1555 NULL entries\n",
      "away_player_1: 1234 NULL entries\n",
      "away_player_2: 1278 NULL entries\n",
      "away_player_3: 1293 NULL entries\n",
      "away_player_4: 1321 NULL entries\n",
      "away_player_5: 1335 NULL entries\n",
      "away_player_6: 1313 NULL entries\n",
      "away_player_7: 1235 NULL entries\n",
      "away_player_8: 1341 NULL entries\n",
      "away_player_9: 1328 NULL entries\n",
      "away_player_10: 1441 NULL entries\n",
      "away_player_11: 1554 NULL entries\n",
      "goal: 11762 NULL entries\n",
      "shoton: 11762 NULL entries\n",
      "shotoff: 11762 NULL entries\n",
      "foulcommit: 11762 NULL entries\n",
      "card: 11762 NULL entries\n",
      "cross: 11762 NULL entries\n",
      "corner: 11762 NULL entries\n",
      "possession: 11762 NULL entries\n",
      "B365H: 3387 NULL entries\n",
      "B365D: 3387 NULL entries\n",
      "B365A: 3387 NULL entries\n",
      "BWH: 3404 NULL entries\n",
      "BWD: 3404 NULL entries\n",
      "BWA: 3404 NULL entries\n",
      "IWH: 3459 NULL entries\n",
      "IWD: 3459 NULL entries\n",
      "IWA: 3459 NULL entries\n",
      "LBH: 3423 NULL entries\n",
      "LBD: 3423 NULL entries\n",
      "LBA: 3423 NULL entries\n",
      "PSH: 14811 NULL entries\n",
      "PSD: 14811 NULL entries\n",
      "PSA: 14811 NULL entries\n",
      "WHH: 3408 NULL entries\n",
      "WHD: 3408 NULL entries\n",
      "WHA: 3408 NULL entries\n",
      "SJH: 8882 NULL entries\n",
      "SJD: 8882 NULL entries\n",
      "SJA: 8882 NULL entries\n",
      "VCH: 3411 NULL entries\n",
      "VCD: 3411 NULL entries\n",
      "VCA: 3411 NULL entries\n",
      "GBH: 11817 NULL entries\n",
      "GBD: 11817 NULL entries\n",
      "GBA: 11817 NULL entries\n",
      "BSH: 11818 NULL entries\n",
      "BSD: 11818 NULL entries\n",
      "BSA: 11818 NULL entries\n"
     ]
    }
   ],
   "source": [
    "import sqlite3\n",
    "\n",
    "# Verbindung zur Datenbank herstellen\n",
    "conn = sqlite3.connect('database.sqlite')\n",
    "cursor = conn.cursor()\n",
    "\n",
    "# Spaltennamen der Tabelle \"Match\" abfragen\n",
    "cursor.execute(\"PRAGMA table_info('Match')\")\n",
    "columns = [column[1] for column in cursor.fetchall()]\n",
    "\n",
    "# Für jede Spalte prüfen, ob es NULL-Einträge gibt\n",
    "null_counts = {}\n",
    "for column in columns:\n",
    "    cursor.execute(f\"SELECT COUNT(*) FROM Match WHERE {column} IS NULL\")\n",
    "    null_counts[column] = cursor.fetchone()[0]\n",
    "\n",
    "# Ausgabe der Ergebnisse\n",
    "for column, null_count in null_counts.items():\n",
    "    print(f\"{column}: {null_count} NULL entries\")\n",
    "\n",
    "# Verbindung zur Datenbank schließen\n",
    "conn.close()"
   ]
  },
  {
   "attachments": {},
   "cell_type": "markdown",
   "metadata": {},
   "source": [
    "Erweiterte Prüfung:"
   ]
  },
  {
   "cell_type": "code",
   "execution_count": 2,
   "metadata": {},
   "outputs": [
    {
     "name": "stdout",
     "output_type": "stream",
     "text": [
      "1762 of 25979 rows have no NULL entries.\n"
     ]
    }
   ],
   "source": [
    "import sqlite3\n",
    "\n",
    "# Verbindung zur Datenbank herstellen\n",
    "conn = sqlite3.connect('database.sqlite')\n",
    "cursor = conn.cursor()\n",
    "\n",
    "# Spaltennamen der Tabelle 'Match' ermitteln\n",
    "cursor.execute(\"SELECT * FROM Match LIMIT 0\")\n",
    "columns = [column[0] for column in cursor.description]\n",
    "\n",
    "# Abfrage für die Prüfung auf NULL-Einträge dynamisch aufbauen\n",
    "null_check_query = \" OR \".join(f\"({column} IS NULL)\" for column in columns)\n",
    "\n",
    "# Anzahl der Zeilen ohne NULL-Einträge ermitteln\n",
    "cursor.execute(f\"SELECT COUNT(*) FROM Match WHERE NOT ({null_check_query})\")\n",
    "non_null_rows = cursor.fetchone()[0]\n",
    "\n",
    "print(f\"{non_null_rows} of {cursor.execute('SELECT COUNT(*) FROM Match').fetchone()[0]} rows have no NULL entries.\")\n",
    "\n",
    "# Verbindung zur Datenbank schließen\n",
    "conn.close()\n"
   ]
  }
 ],
 "metadata": {
  "kernelspec": {
   "display_name": "conda",
   "language": "python",
   "name": "python3"
  },
  "language_info": {
   "codemirror_mode": {
    "name": "ipython",
    "version": 3
   },
   "file_extension": ".py",
   "mimetype": "text/x-python",
   "name": "python",
   "nbconvert_exporter": "python",
   "pygments_lexer": "ipython3",
   "version": "3.10.9"
  },
  "orig_nbformat": 4,
  "vscode": {
   "interpreter": {
    "hash": "0b35ed826826f36e7ddb7cb5b53fa9ff9a5789c8723d9fea90de13b39675cd18"
   }
  }
 },
 "nbformat": 4,
 "nbformat_minor": 2
}
